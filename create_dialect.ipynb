{
 "cells": [
  {
   "cell_type": "code",
   "execution_count": 1,
   "metadata": {},
   "outputs": [],
   "source": [
    "import pandas as pd"
   ]
  },
  {
   "cell_type": "code",
   "execution_count": 2,
   "metadata": {},
   "outputs": [],
   "source": [
    "df = pd.read_csv(\"../emnlp/data_fix/dev.tsv\",sep=\"\\t\",header=0)"
   ]
  },
  {
   "cell_type": "code",
   "execution_count": 3,
   "metadata": {},
   "outputs": [
    {
     "data": {
      "text/html": [
       "<div>\n",
       "<style scoped>\n",
       "    .dataframe tbody tr th:only-of-type {\n",
       "        vertical-align: middle;\n",
       "    }\n",
       "\n",
       "    .dataframe tbody tr th {\n",
       "        vertical-align: top;\n",
       "    }\n",
       "\n",
       "    .dataframe thead th {\n",
       "        text-align: right;\n",
       "    }\n",
       "</style>\n",
       "<table border=\"1\" class=\"dataframe\">\n",
       "  <thead>\n",
       "    <tr style=\"text-align: right;\">\n",
       "      <th></th>\n",
       "      <th>annotated_city</th>\n",
       "      <th>annotated_tableau_state</th>\n",
       "      <th>code</th>\n",
       "      <th>normalized_tweet_withouthashtags</th>\n",
       "    </tr>\n",
       "  </thead>\n",
       "  <tbody>\n",
       "    <tr>\n",
       "      <th>0</th>\n",
       "      <td>Ar_Rass</td>\n",
       "      <td>Al_Quassim</td>\n",
       "      <td>sa</td>\n",
       "      <td>USER هه منسمين ابو فسيات NUM ازين مابهم دايم ي...</td>\n",
       "    </tr>\n",
       "    <tr>\n",
       "      <th>1</th>\n",
       "      <td>Mansoura_eg</td>\n",
       "      <td>Dakahlia</td>\n",
       "      <td>eg</td>\n",
       "      <td>لكن اللقاء كما السراب و وصلكم طيف و رؤياكم قلي...</td>\n",
       "    </tr>\n",
       "    <tr>\n",
       "      <th>2</th>\n",
       "      <td>Mostaganem</td>\n",
       "      <td>Mostaganem</td>\n",
       "      <td>dz</td>\n",
       "      <td>USER امين يارب العالمين</td>\n",
       "    </tr>\n",
       "    <tr>\n",
       "      <th>3</th>\n",
       "      <td>Marsa_Matruh‎</td>\n",
       "      <td>Matrouh</td>\n",
       "      <td>eg</td>\n",
       "      <td>USER شفيقه قالتها من ٢٥ سنه الي باعك بيعه وهات...</td>\n",
       "    </tr>\n",
       "    <tr>\n",
       "      <th>4</th>\n",
       "      <td>Settat</td>\n",
       "      <td>Chaouia-Ouardigha</td>\n",
       "      <td>ma</td>\n",
       "      <td>USER بحال بحال هه</td>\n",
       "    </tr>\n",
       "  </tbody>\n",
       "</table>\n",
       "</div>"
      ],
      "text/plain": [
       "  annotated_city annotated_tableau_state code  \\\n",
       "0        Ar_Rass              Al_Quassim   sa   \n",
       "1    Mansoura_eg                Dakahlia   eg   \n",
       "2     Mostaganem              Mostaganem   dz   \n",
       "3  Marsa_Matruh‎                 Matrouh   eg   \n",
       "4         Settat       Chaouia-Ouardigha   ma   \n",
       "\n",
       "                    normalized_tweet_withouthashtags  \n",
       "0  USER هه منسمين ابو فسيات NUM ازين مابهم دايم ي...  \n",
       "1  لكن اللقاء كما السراب و وصلكم طيف و رؤياكم قلي...  \n",
       "2                            USER امين يارب العالمين  \n",
       "3  USER شفيقه قالتها من ٢٥ سنه الي باعك بيعه وهات...  \n",
       "4                                  USER بحال بحال هه  "
      ]
     },
     "execution_count": 3,
     "metadata": {},
     "output_type": "execute_result"
    }
   ],
   "source": [
    "df.head()"
   ]
  },
  {
   "cell_type": "code",
   "execution_count": 4,
   "metadata": {},
   "outputs": [],
   "source": [
    "country_label = df.code.values\n",
    "tweets = df.normalized_tweet_withouthashtags.values"
   ]
  },
  {
   "cell_type": "code",
   "execution_count": 5,
   "metadata": {},
   "outputs": [
    {
     "name": "stdout",
     "output_type": "stream",
     "text": [
      "202509 202509\n"
     ]
    }
   ],
   "source": [
    "print(len(country_label),len(tweets))"
   ]
  },
  {
   "cell_type": "code",
   "execution_count": 6,
   "metadata": {},
   "outputs": [],
   "source": [
    "uae = []\n",
    "eg = []\n",
    "\n",
    "for i in range(len(country_label)):\n",
    "    if country_label[i] == 'ae':\n",
    "        uae.append(tweets[i])\n",
    "    elif country_label[i] == 'eg':\n",
    "        eg.append(tweets[i])"
   ]
  },
  {
   "cell_type": "code",
   "execution_count": 7,
   "metadata": {},
   "outputs": [
    {
     "data": {
      "text/plain": [
       "13089"
      ]
     },
     "execution_count": 7,
     "metadata": {},
     "output_type": "execute_result"
    }
   ],
   "source": [
    "len(uae)"
   ]
  },
  {
   "cell_type": "code",
   "execution_count": 8,
   "metadata": {},
   "outputs": [
    {
     "data": {
      "text/plain": [
       "46136"
      ]
     },
     "execution_count": 8,
     "metadata": {},
     "output_type": "execute_result"
    }
   ],
   "source": [
    "len(eg)"
   ]
  },
  {
   "cell_type": "code",
   "execution_count": 13,
   "metadata": {},
   "outputs": [],
   "source": [
    "import os"
   ]
  },
  {
   "cell_type": "code",
   "execution_count": 14,
   "metadata": {},
   "outputs": [],
   "source": [
    "os.makedirs(\"./data/uae-eg/\")"
   ]
  },
  {
   "cell_type": "code",
   "execution_count": 16,
   "metadata": {},
   "outputs": [],
   "source": [
    "file = open(\"./data/uae-eg/dialect.eg\",\"w\")\n",
    "for item in eg:\n",
    "    file.write(item + \"\\n\") \n",
    "file.close()"
   ]
  },
  {
   "cell_type": "code",
   "execution_count": 17,
   "metadata": {},
   "outputs": [],
   "source": [
    "file = open(\"./data/uae-eg/dialect.uae\",\"w\")\n",
    "for item in uae:\n",
    "    file.write(item + \"\\n\") \n",
    "file.close()"
   ]
  },
  {
   "cell_type": "code",
   "execution_count": 9,
   "metadata": {},
   "outputs": [],
   "source": [
    "file = open(\"./data/uae-eg/dialect_dev.eg\",\"w\")\n",
    "for item in eg:\n",
    "    file.write(item + \"\\n\") \n",
    "file.close()"
   ]
  },
  {
   "cell_type": "code",
   "execution_count": 10,
   "metadata": {},
   "outputs": [],
   "source": [
    "file = open(\"./data/uae-eg/dialect_dev.uae\",\"w\")\n",
    "for item in uae:\n",
    "    file.write(item + \"\\n\") \n",
    "file.close()"
   ]
  },
  {
   "cell_type": "code",
   "execution_count": null,
   "metadata": {},
   "outputs": [],
   "source": []
  }
 ],
 "metadata": {
  "kernelspec": {
   "display_name": "Python 3",
   "language": "python",
   "name": "python3"
  },
  "language_info": {
   "codemirror_mode": {
    "name": "ipython",
    "version": 3
   },
   "file_extension": ".py",
   "mimetype": "text/x-python",
   "name": "python",
   "nbconvert_exporter": "python",
   "pygments_lexer": "ipython3",
   "version": "3.6.3"
  }
 },
 "nbformat": 4,
 "nbformat_minor": 2
}
