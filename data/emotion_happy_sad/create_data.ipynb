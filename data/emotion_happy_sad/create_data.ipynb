{
 "cells": [
  {
   "cell_type": "code",
   "execution_count": 1,
   "metadata": {},
   "outputs": [],
   "source": [
    "import pandas as pd"
   ]
  },
  {
   "cell_type": "code",
   "execution_count": 2,
   "metadata": {},
   "outputs": [],
   "source": [
    "df = pd.read_csv(\"/home/chiyu94/scratch/emotion_spt/data/train_final.tsv\", sep = '\\t',header=0)"
   ]
  },
  {
   "cell_type": "code",
   "execution_count": 3,
   "metadata": {},
   "outputs": [
    {
     "data": {
      "text/html": [
       "<div>\n",
       "<style scoped>\n",
       "    .dataframe tbody tr th:only-of-type {\n",
       "        vertical-align: middle;\n",
       "    }\n",
       "\n",
       "    .dataframe tbody tr th {\n",
       "        vertical-align: top;\n",
       "    }\n",
       "\n",
       "    .dataframe thead th {\n",
       "        text-align: right;\n",
       "    }\n",
       "</style>\n",
       "<table border=\"1\" class=\"dataframe\">\n",
       "  <thead>\n",
       "    <tr style=\"text-align: right;\">\n",
       "      <th></th>\n",
       "      <th>content</th>\n",
       "      <th>final_loc</th>\n",
       "      <th>hashtag</th>\n",
       "      <th>label</th>\n",
       "      <th>lang_id</th>\n",
       "      <th>message_id</th>\n",
       "      <th>tag_loc</th>\n",
       "    </tr>\n",
       "  </thead>\n",
       "  <tbody>\n",
       "    <tr>\n",
       "      <th>0</th>\n",
       "      <td>The exact contrary of what is generally belie ...</td>\n",
       "      <td>final</td>\n",
       "      <td>#happy</td>\n",
       "      <td>joy</td>\n",
       "      <td>en</td>\n",
       "      <td>409254259390443520</td>\n",
       "      <td>end</td>\n",
       "    </tr>\n",
       "    <tr>\n",
       "      <th>1</th>\n",
       "      <td>It's been a great day !</td>\n",
       "      <td>final</td>\n",
       "      <td>#happy</td>\n",
       "      <td>joy</td>\n",
       "      <td>en</td>\n",
       "      <td>210798362390298624</td>\n",
       "      <td>end</td>\n",
       "    </tr>\n",
       "    <tr>\n",
       "      <th>2</th>\n",
       "      <td>&lt;USER&gt; of course ! Trump hotel Taiwan , Russia...</td>\n",
       "      <td>final</td>\n",
       "      <td>#scared</td>\n",
       "      <td>fear</td>\n",
       "      <td>en</td>\n",
       "      <td>805331162683932672</td>\n",
       "      <td>end</td>\n",
       "    </tr>\n",
       "    <tr>\n",
       "      <th>3</th>\n",
       "      <td>i just watched the suicide squad story on snap...</td>\n",
       "      <td>final</td>\n",
       "      <td>#happy</td>\n",
       "      <td>joy</td>\n",
       "      <td>en</td>\n",
       "      <td>760868972405395456</td>\n",
       "      <td>end</td>\n",
       "    </tr>\n",
       "    <tr>\n",
       "      <th>4</th>\n",
       "      <td>&lt;USER&gt; you'll be a better person for it too , ...</td>\n",
       "      <td>final</td>\n",
       "      <td>#carefree</td>\n",
       "      <td>joy</td>\n",
       "      <td>en</td>\n",
       "      <td>785213302007881728</td>\n",
       "      <td>end</td>\n",
       "    </tr>\n",
       "  </tbody>\n",
       "</table>\n",
       "</div>"
      ],
      "text/plain": [
       "                                             content final_loc    hashtag  \\\n",
       "0  The exact contrary of what is generally belie ...     final     #happy   \n",
       "1                            It's been a great day !     final     #happy   \n",
       "2  <USER> of course ! Trump hotel Taiwan , Russia...     final    #scared   \n",
       "3  i just watched the suicide squad story on snap...     final     #happy   \n",
       "4  <USER> you'll be a better person for it too , ...     final  #carefree   \n",
       "\n",
       "  label lang_id          message_id tag_loc  \n",
       "0   joy      en  409254259390443520     end  \n",
       "1   joy      en  210798362390298624     end  \n",
       "2  fear      en  805331162683932672     end  \n",
       "3   joy      en  760868972405395456     end  \n",
       "4   joy      en  785213302007881728     end  "
      ]
     },
     "execution_count": 3,
     "metadata": {},
     "output_type": "execute_result"
    }
   ],
   "source": [
    "df.head()"
   ]
  },
  {
   "cell_type": "code",
   "execution_count": 11,
   "metadata": {},
   "outputs": [],
   "source": [
    "labels = list(df.label.values)"
   ]
  },
  {
   "cell_type": "code",
   "execution_count": 5,
   "metadata": {},
   "outputs": [
    {
     "name": "stdout",
     "output_type": "stream",
     "text": [
      "{'surprise', 'disgust', 'trust', 'anticipation', 'sadness', 'fear', 'joy', 'anger'}\n"
     ]
    }
   ],
   "source": [
    "# print(labels)"
   ]
  },
  {
   "cell_type": "code",
   "execution_count": 6,
   "metadata": {},
   "outputs": [],
   "source": [
    "from collections import defaultdict "
   ]
  },
  {
   "cell_type": "code",
   "execution_count": 7,
   "metadata": {},
   "outputs": [],
   "source": [
    "d = defaultdict(int) "
   ]
  },
  {
   "cell_type": "code",
   "execution_count": 9,
   "metadata": {},
   "outputs": [],
   "source": [
    "for i in labels:\n",
    "    d[i] += 1"
   ]
  },
  {
   "cell_type": "code",
   "execution_count": 10,
   "metadata": {},
   "outputs": [
    {
     "name": "stdout",
     "output_type": "stream",
     "text": [
      "defaultdict(<class 'int'>, {'joy': 105253, 'fear': 27656, 'anticipation': 7321, 'anger': 15694, 'surprise': 15145, 'sadness': 39376, 'trust': 7915, 'disgust': 13073})\n"
     ]
    }
   ],
   "source": [
    "print(d)"
   ]
  },
  {
   "cell_type": "code",
   "execution_count": 13,
   "metadata": {},
   "outputs": [],
   "source": [
    "tweets = list(df.content.values)"
   ]
  },
  {
   "cell_type": "code",
   "execution_count": 41,
   "metadata": {},
   "outputs": [],
   "source": [
    "joy = []\n",
    "sad = []\n",
    "\n",
    "for i in range(len(labels)):\n",
    "    if type(tweets[i]) == str and len(tweets[i]) > 10: \n",
    "        if labels[i] == 'joy':\n",
    "            joy.append(tweets[i])\n",
    "        elif labels[i] == 'sadness':\n",
    "            sad.append(tweets[i])"
   ]
  },
  {
   "cell_type": "code",
   "execution_count": 42,
   "metadata": {},
   "outputs": [],
   "source": [
    "for i in range(len(labels)):\n",
    "    if type(tweets[i]) == str and len(tweets[i]) > 10 and labels[i] == 'sadness':\n",
    "        sad.append(tweets[i])"
   ]
  },
  {
   "cell_type": "code",
   "execution_count": 43,
   "metadata": {},
   "outputs": [
    {
     "name": "stdout",
     "output_type": "stream",
     "text": [
      "104874\n"
     ]
    }
   ],
   "source": [
    "print(len(joy))"
   ]
  },
  {
   "cell_type": "code",
   "execution_count": 44,
   "metadata": {},
   "outputs": [
    {
     "name": "stdout",
     "output_type": "stream",
     "text": [
      "78172\n"
     ]
    }
   ],
   "source": [
    "print(len(sad))"
   ]
  },
  {
   "cell_type": "code",
   "execution_count": 45,
   "metadata": {},
   "outputs": [],
   "source": [
    "file = open(\"./emotion.happy\",\"w\")\n",
    "for item in joy:\n",
    "    file.write(item + \"\\n\") \n",
    "file.close()"
   ]
  },
  {
   "cell_type": "code",
   "execution_count": 46,
   "metadata": {},
   "outputs": [],
   "source": [
    "file = open(\"./emotion.sad\",\"w\")\n",
    "for item in sad:\n",
    "    file.write(item + \"\\n\") \n",
    "file.close()"
   ]
  },
  {
   "cell_type": "code",
   "execution_count": null,
   "metadata": {},
   "outputs": [],
   "source": []
  }
 ],
 "metadata": {
  "kernelspec": {
   "display_name": "Python 3",
   "language": "python",
   "name": "python3"
  },
  "language_info": {
   "codemirror_mode": {
    "name": "ipython",
    "version": 3
   },
   "file_extension": ".py",
   "mimetype": "text/x-python",
   "name": "python",
   "nbconvert_exporter": "python",
   "pygments_lexer": "ipython3",
   "version": "3.6.3"
  }
 },
 "nbformat": 4,
 "nbformat_minor": 2
}
